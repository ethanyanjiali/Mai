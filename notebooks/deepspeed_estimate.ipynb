{
 "cells": [
  {
   "cell_type": "code",
   "execution_count": 1,
   "metadata": {},
   "outputs": [
    {
     "name": "stdout",
     "output_type": "stream",
     "text": [
      "[2023-12-27 03:54:08,801] [INFO] [real_accelerator.py:158:get_accelerator] Setting ds_accelerator to cuda (auto detect)\n"
     ]
    },
    {
     "name": "stderr",
     "output_type": "stream",
     "text": [
      "/home/yanjia.li/anaconda3/envs/llava/lib/python3.10/site-packages/tqdm/auto.py:21: TqdmWarning: IProgress not found. Please update jupyter and ipywidgets. See https://ipywidgets.readthedocs.io/en/stable/user_install.html\n",
      "  from .autonotebook import tqdm as notebook_tqdm\n"
     ]
    },
    {
     "name": "stdout",
     "output_type": "stream",
     "text": [
      "Token will not been saved to git credential helper. Pass `add_to_git_credential=True` if you want to set the git credential as well.\n",
      "Token is valid (permission: read).\n",
      "Your token has been saved to /root/.cache/huggingface/token\n",
      "Login successful\n"
     ]
    }
   ],
   "source": [
    "import deepspeed\n",
    "from transformers import AutoModelForCausalLM\n",
    "from huggingface_hub import login\n",
    "login()"
   ]
  },
  {
   "cell_type": "code",
   "execution_count": 4,
   "metadata": {},
   "outputs": [
    {
     "name": "stderr",
     "output_type": "stream",
     "text": [
      "Loading checkpoint shards: 100%|██████████| 3/3 [00:22<00:00,  7.44s/it]"
     ]
    },
    {
     "name": "stdout",
     "output_type": "stream",
     "text": [
      "Estimated memory needed for params, optim states and gradients for a:\n",
      "HW: Setup with 1 node, 1 GPU per node.\n",
      "SW: Model with 13015M total params.\n",
      "  per CPU  |  per GPU |   Options\n",
      "  290.93GB |  24.24GB | offload_optimizer=cpu \n",
      "   72.73GB | 242.44GB | offload_optimizer=none\n",
      "Estimated memory needed for params, optim states and gradients for a:\n",
      "HW: Setup with 1 node, 1 GPU per node.\n",
      "SW: Model with 13015M total params, 163M largest layer params.\n",
      "  per CPU  |  per GPU |   Options\n",
      "  327.29GB |   0.61GB | offload_param=cpu , offload_optimizer=cpu , zero_init=1\n",
      "  327.29GB |   0.61GB | offload_param=cpu , offload_optimizer=cpu , zero_init=0\n",
      "  290.93GB |  24.85GB | offload_param=none, offload_optimizer=cpu , zero_init=1\n",
      "  290.93GB |  24.85GB | offload_param=none, offload_optimizer=cpu , zero_init=0\n",
      "    0.92GB | 218.81GB | offload_param=none, offload_optimizer=none, zero_init=1\n",
      "   72.73GB | 218.81GB | offload_param=none, offload_optimizer=none, zero_init=0\n"
     ]
    },
    {
     "name": "stderr",
     "output_type": "stream",
     "text": [
      "\n"
     ]
    }
   ],
   "source": [
    "model = \"meta-llama/Llama-2-13b-chat-hf\"\n",
    "llama2 = AutoModelForCausalLM.from_pretrained(model)\n",
    "deepspeed.runtime.zero.stage_1_and_2.estimate_zero2_model_states_mem_needs_all_live(llama2)\n",
    "deepspeed.runtime.zero.stage3.estimate_zero3_model_states_mem_needs_all_live(llama2)"
   ]
  },
  {
   "cell_type": "code",
   "execution_count": 2,
   "metadata": {},
   "outputs": [
    {
     "name": "stderr",
     "output_type": "stream",
     "text": [
      "Loading checkpoint shards: 100%|██████████| 2/2 [00:02<00:00,  1.11s/it]"
     ]
    },
    {
     "name": "stdout",
     "output_type": "stream",
     "text": [
      "Estimated memory needed for params, optim states and gradients for a:\n",
      "HW: Setup with 1 node, 1 GPU per node.\n",
      "SW: Model with 6738M total params.\n",
      "  per CPU  |  per GPU |   Options\n",
      "  150.62GB |  12.55GB | offload_optimizer=cpu \n",
      "   37.65GB | 125.51GB | offload_optimizer=none\n",
      "Estimated memory needed for params, optim states and gradients for a:\n",
      "HW: Setup with 1 node, 1 GPU per node.\n",
      "SW: Model with 6738M total params, 131M largest layer params.\n",
      "  per CPU  |  per GPU |   Options\n",
      "  169.44GB |   0.49GB | offload_param=cpu , offload_optimizer=cpu , zero_init=1\n",
      "  169.44GB |   0.49GB | offload_param=cpu , offload_optimizer=cpu , zero_init=0\n",
      "  150.62GB |  13.04GB | offload_param=none, offload_optimizer=cpu , zero_init=1\n",
      "  150.62GB |  13.04GB | offload_param=none, offload_optimizer=cpu , zero_init=0\n",
      "    0.73GB | 113.45GB | offload_param=none, offload_optimizer=none, zero_init=1\n",
      "   37.65GB | 113.45GB | offload_param=none, offload_optimizer=none, zero_init=0\n"
     ]
    },
    {
     "name": "stderr",
     "output_type": "stream",
     "text": [
      "\n"
     ]
    }
   ],
   "source": [
    "model = \"meta-llama/Llama-2-7b-chat-hf\"\n",
    "llama2 = AutoModelForCausalLM.from_pretrained(model)\n",
    "deepspeed.runtime.zero.stage_1_and_2.estimate_zero2_model_states_mem_needs_all_live(llama2)\n",
    "deepspeed.runtime.zero.stage3.estimate_zero3_model_states_mem_needs_all_live(llama2)"
   ]
  },
  {
   "cell_type": "code",
   "execution_count": 4,
   "metadata": {},
   "outputs": [
    {
     "name": "stderr",
     "output_type": "stream",
     "text": [
      "Loading checkpoint shards: 100%|██████████| 2/2 [00:01<00:00,  1.85it/s]\n"
     ]
    },
    {
     "name": "stdout",
     "output_type": "stream",
     "text": [
      "Estimated memory needed for params, optim states and gradients for a:\n",
      "HW: Setup with 1 node, 1 GPU per node.\n",
      "SW: Model with 2779M total params.\n",
      "  per CPU  |  per GPU |   Options\n",
      "   62.13GB |   5.18GB | offload_optimizer=cpu \n",
      "   15.53GB |  51.78GB | offload_optimizer=none\n",
      "Estimated memory needed for params, optim states and gradients for a:\n",
      "HW: Setup with 1 node, 1 GPU per node.\n",
      "SW: Model with 2779M total params, 131M largest layer params.\n",
      "  per CPU  |  per GPU |   Options\n",
      "   69.90GB |   0.49GB | offload_param=cpu , offload_optimizer=cpu , zero_init=1\n",
      "   69.90GB |   0.49GB | offload_param=cpu , offload_optimizer=cpu , zero_init=0\n",
      "   62.13GB |   5.67GB | offload_param=none, offload_optimizer=cpu , zero_init=1\n",
      "   62.13GB |   5.67GB | offload_param=none, offload_optimizer=cpu , zero_init=0\n",
      "    0.73GB |  47.09GB | offload_param=none, offload_optimizer=none, zero_init=1\n",
      "   15.53GB |  47.09GB | offload_param=none, offload_optimizer=none, zero_init=0\n"
     ]
    }
   ],
   "source": [
    "model = \"microsoft/phi-2\"\n",
    "phi2 = AutoModelForCausalLM.from_pretrained(model)\n",
    "deepspeed.runtime.zero.stage_1_and_2.estimate_zero2_model_states_mem_needs_all_live(phi2)\n",
    "deepspeed.runtime.zero.stage3.estimate_zero3_model_states_mem_needs_all_live(phi2)"
   ]
  }
 ],
 "metadata": {
  "kernelspec": {
   "display_name": "llava",
   "language": "python",
   "name": "python3"
  },
  "language_info": {
   "codemirror_mode": {
    "name": "ipython",
    "version": 3
   },
   "file_extension": ".py",
   "mimetype": "text/x-python",
   "name": "python",
   "nbconvert_exporter": "python",
   "pygments_lexer": "ipython3",
   "version": "3.10.13"
  }
 },
 "nbformat": 4,
 "nbformat_minor": 2
}
